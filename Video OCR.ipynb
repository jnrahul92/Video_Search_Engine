{
 "cells": [
  {
   "cell_type": "code",
   "execution_count": 1,
   "id": "e5c8b3f2",
   "metadata": {},
   "outputs": [],
   "source": [
    "import pytesseract\n",
    "import cv2\n",
    "import numpy as np\n",
    "from scipy import stats\n",
    "import matplotlib.pyplot as plt"
   ]
  },
  {
   "cell_type": "code",
   "execution_count": 2,
   "id": "a8b23d52",
   "metadata": {},
   "outputs": [],
   "source": [
    "import os\n",
    "import io"
   ]
  },
  {
   "cell_type": "code",
   "execution_count": 3,
   "id": "13815e94",
   "metadata": {},
   "outputs": [],
   "source": [
    "os.environ['GOOGLE_APPLICATION_CREDENTIALS'] = \"glassy-courage-360816-8b764bf43fec.json\""
   ]
  },
  {
   "cell_type": "code",
   "execution_count": 21,
   "id": "e84bddfd",
   "metadata": {},
   "outputs": [],
   "source": [
    "data_dir = r\"D:\\M Tech DSE Bits\\Semester 3\\Information Retrieval\\Assignments\\Assignment 2\\Data/\""
   ]
  },
  {
   "cell_type": "code",
   "execution_count": 4,
   "id": "916d9688",
   "metadata": {},
   "outputs": [],
   "source": [
    "ocr_dir = r\"D:\\M Tech DSE Bits\\Semester 3\\Information Retrieval\\Assignments\\Assignment 2\\OCR Data\\\\\"\n",
    "thumbnail_dir = r\"D:\\M Tech DSE Bits\\Semester 3\\Information Retrieval\\Assignments\\Assignment 2\\Thumbnails\\\\\""
   ]
  },
  {
   "cell_type": "code",
   "execution_count": 5,
   "id": "f54afccd",
   "metadata": {},
   "outputs": [],
   "source": [
    "from google.cloud import vision\n",
    "from google.cloud.vision_v1 import types"
   ]
  },
  {
   "cell_type": "code",
   "execution_count": 6,
   "id": "56a74fef",
   "metadata": {},
   "outputs": [],
   "source": [
    "client = vision.ImageAnnotatorClient()"
   ]
  },
  {
   "cell_type": "code",
   "execution_count": 7,
   "id": "6ae76eb4",
   "metadata": {},
   "outputs": [],
   "source": [
    "def detect_text(path):\n",
    "    with io.open(path, 'rb') as image_file:\n",
    "        content = image_file.read()\n",
    "    image = vision.Image(content = content)\n",
    "    response = client.text_detection(image = image)\n",
    "    texts = response.text_annotations\n",
    "    string = \"\"\n",
    "    for text in texts:\n",
    "        string += \" \"+text.description\n",
    "    return string"
   ]
  },
  {
   "cell_type": "code",
   "execution_count": 30,
   "id": "ceaee5d5",
   "metadata": {},
   "outputs": [
    {
     "name": "stdout",
     "output_type": "stream",
     "text": [
      "File Saved\n",
      "File Saved\n",
      "File Saved\n",
      "File Saved\n",
      "File Saved\n",
      "File Saved\n",
      "File Saved\n",
      "File Saved\n",
      "File Saved\n",
      "File Saved\n",
      "File Saved\n",
      "File Saved\n"
     ]
    }
   ],
   "source": [
    "for fname in os.listdir(data_dir):\n",
    "    result = \"\"\n",
    "    cap = cv2.VideoCapture(\"Data/\" + fname)\n",
    "    i = 0\n",
    "    while True:\n",
    "        try:\n",
    "            ret, frame = cap.read()\n",
    "            file = \"live.png\"\n",
    "            cv2.imwrite(file, frame)\n",
    "            if i == 20:\n",
    "                cv2.imwrite(thumbnail_dir+fname[:-3]+\"png\", frame)\n",
    "            if i%20 == 0:\n",
    "                temp = detect_text(file)\n",
    "                result += temp\n",
    "            i += 1\n",
    "        except:\n",
    "            break\n",
    "    with open(ocr_dir+fname+\".txt\",'w',encoding='utf-8') as file:\n",
    "        file.write(result,)\n",
    "        file.close()\n",
    "    cv2.destroyAllWindows()"
   ]
  },
  {
   "cell_type": "code",
   "execution_count": 8,
   "id": "d7de0312",
   "metadata": {},
   "outputs": [],
   "source": [
    "fname = \"Dense And Relu Layers\""
   ]
  },
  {
   "cell_type": "code",
   "execution_count": 127,
   "id": "6240313a",
   "metadata": {},
   "outputs": [],
   "source": [
    "cap = cv2.VideoCapture(\"Data/\"+fname+\".mp4\")"
   ]
  },
  {
   "cell_type": "code",
   "execution_count": 128,
   "id": "445dd97b",
   "metadata": {},
   "outputs": [
    {
     "name": "stdout",
     "output_type": "stream",
     "text": [
      "4525.0\n"
     ]
    }
   ],
   "source": [
    "print(cap.get(cv2.CAP_PROP_FRAME_COUNT))"
   ]
  },
  {
   "cell_type": "code",
   "execution_count": 129,
   "id": "769605cb",
   "metadata": {},
   "outputs": [],
   "source": [
    "result = \"\""
   ]
  },
  {
   "cell_type": "code",
   "execution_count": 130,
   "id": "badef154",
   "metadata": {},
   "outputs": [],
   "source": [
    "i = 0\n",
    "while True:\n",
    "    try:\n",
    "        ret, frame = cap.read()\n",
    "        file = \"live.png\"\n",
    "        cv2.imwrite(file, frame)\n",
    "        if i%20 == 0:\n",
    "            temp = detect_text(file)\n",
    "            result += temp\n",
    "        i += 1\n",
    "    except:\n",
    "        break"
   ]
  },
  {
   "cell_type": "code",
   "execution_count": 131,
   "id": "b32b1573",
   "metadata": {},
   "outputs": [],
   "source": [
    "with open(ocr_dir+fname+\".txt\",'w',encoding='utf-8') as file:\n",
    "    file.write(result,)\n",
    "    file.close()"
   ]
  },
  {
   "cell_type": "code",
   "execution_count": 132,
   "id": "a3de317a",
   "metadata": {},
   "outputs": [],
   "source": [
    "cv2.destroyAllWindows()"
   ]
  },
  {
   "cell_type": "code",
   "execution_count": null,
   "id": "3f1fc911",
   "metadata": {},
   "outputs": [],
   "source": []
  }
 ],
 "metadata": {
  "kernelspec": {
   "display_name": "IR_MT",
   "language": "python",
   "name": "ir_mt"
  },
  "language_info": {
   "codemirror_mode": {
    "name": "ipython",
    "version": 3
   },
   "file_extension": ".py",
   "mimetype": "text/x-python",
   "name": "python",
   "nbconvert_exporter": "python",
   "pygments_lexer": "ipython3",
   "version": "3.8.2"
  }
 },
 "nbformat": 4,
 "nbformat_minor": 5
}
